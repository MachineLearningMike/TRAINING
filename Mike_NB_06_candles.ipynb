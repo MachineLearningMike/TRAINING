{
 "cells": [
  {
   "cell_type": "code",
   "execution_count": 1,
   "metadata": {},
   "outputs": [],
   "source": [
    "# Import 3rd-party frameworks.\n",
    "\n",
    "from scipy import signal\n",
    "import matplotlib.pyplot as plt\n",
    "import numpy as np\n",
    "import time as tm\n",
    "import json\n",
    "from datetime import datetime, timedelta\n",
    "from matplotlib import pyplot as plt\n",
    "import gc\n",
    "import os"
   ]
  },
  {
   "cell_type": "code",
   "execution_count": 2,
   "metadata": {},
   "outputs": [],
   "source": [
    "\n",
    "import sys\n",
    "sys.path.append('..')\n",
    "from config import *"
   ]
  },
  {
   "cell_type": "code",
   "execution_count": 3,
   "metadata": {},
   "outputs": [],
   "source": [
    "from Mike_NB_01 import *"
   ]
  },
  {
   "cell_type": "code",
   "execution_count": 4,
   "metadata": {},
   "outputs": [
    {
     "name": "stdout",
     "output_type": "stream",
     "text": [
      "table: (329, 2751841, 12)\n",
      "['ALICEUSDT: 2751841, 1684624 created. Success.', 'DOTUSDT: 2751841, 1385204 created. Success.', '1INCHUSDT: 2751841, 1569533 created. Success.', 'BTCUSDT: 2751841, 8065 created. Success.', 'ETHUSDT: 2751841, 8066 created. Success.', 'MATICUSDT: 2751841, 695830 created. Success.', 'BNBUSDT: 2751841, 18015 created. Success.', 'USDCUSDT: ', 'XRPUSDT: 2751841, 183492 created. Success.', 'ADAUSDT: 2751841, 158764 created. Success.', 'DOGEUSDT: 2751841, 795789 created. Success.', 'SOLUSDT: 2751841, 1374105 created. Success.', 'BUSDUSDT: 2751841, 905949 created. Success.', 'LTCUSDT: 2751841, 8066 created. Success.', 'SHIBUSDT: 2751841, 1765131 created. Success.', 'TRXUSDT: 2751841, 238412 created. Success.', 'AVAXUSDT: 2751841, 1434614 created. Success.', 'LINKUSDT: 2751841, 551890 created. Success.', 'ATOMUSDT: 2751841, 699490 created. Success.', 'XMRUSDT: 2751841, 634689 created. Success.', 'ETCUSDT: 2751841, 238712 created. Success.', 'UNIUSDT: 2751841, 1427204 created. Success.', 'XLMUSDT: 2751841, 222451 created. Success.', 'BCHUSDT: 2751841, 1005166 created. Success.', 'FILUSDT: 2751841, 1468364 created. Success.', 'LDOUSDT: 2751841, 2288900 created. Success.', 'APTUSDT: 2751841, 2523021 created. Success.', 'TUSDUSDT: ', 'HBARUSDT: 2751841, 918669 created. Success.', 'NEARUSDT: 2751841, 1466204 created. Success.', 'VETUSDT: 2751841, 300160 created. Success.', 'ARBUSDT: 2751841, 2747060 created. Success.', 'ALGOUSDT: 2751841, 776349 created. Success.', 'ICPUSDT: 2751841, 1765970 created. Success.', 'QNTUSDT: 2751841, 1880031 created. Success.', 'APEUSDT: 2751841, 2212790 created. Success.', 'STXUSDT: 2751841, 956109 created. Success.', 'GRTUSDT: 2751841, 1559234 created. Success.', 'EOSUSDT: 2751841, 217862 created. Success.', 'FTMUSDT: 2751841, 760749 created. Success.', 'CFXUSDT: 2751841, 1705084 created. Success.', 'EGLDUSDT: 2751841, 1407044 created. Success.', 'MANAUSDT: 2751841, 1367144 created. Success.', 'XTZUSDT: 2751841, 911889 created. Success.', 'THETAUSDT: 2751841, 672129 created. Success.', 'FLOWUSDT: 2751841, 1881891 created. Success.', 'AAVEUSDT: 2751841, 1467524 created. Success.', 'IMXUSDT: 2751841, 2117480 created. Success.', 'AXSUSDT: 2751841, 1496924 created. Success.', 'SANDUSDT: 2751841, 1378844 created. Success.', 'NEOUSDT: 2751841, 8067 created. Success.', 'USDPUSDT: ', 'RPLUSDT: 2751841, 2654480 created. Success.', 'CHZUSDT: 2751841, 885549 created. Success.', 'LUNCUSDT: 2751841, 2465841 created. Success.', 'KLAYUSDT: 2751841, 1829751 created. Success.', 'CRVUSDT: 2751841, 1379744 created. Success.', 'OPUSDT: 2751841, 2321840 created. Success.', 'MINAUSDT: 2751841, 1897311 created. Success.', 'MKRUSDT: 2751841, 1347224 created. Success.', 'CAKEUSDT: 2751841, 1650154 created. Success.', 'GMXUSDT: 2751841, 2503401 created. Success.', 'DASHUSDT: 2751841, 653410 created. Success.', 'SNXUSDT: 2751841, 1326943 created. Success.', 'FXSUSDT: 2751841, 2072780 created. Success.', 'ZECUSDT: 2751841, 643330 created. Success.', 'XECUSDT: 2751841, 1931841 created. Success.', 'IOTAUSDT: 2751841, 222452 created. Success.', 'PAXGUSDT: 2751841, 1398944 created. Success.', 'AGIXUSDT: 2751841, 2697680 created. Success.', 'MASKUSDT: 2751841, 1786430 created. Success.', 'TWTUSDT: 2751841, 1617233 created. Success.', 'LRCUSDT: 2751841, 1288033 created. Success.', 'RUNEUSDT: 2751841, 1408714 created. Success.', 'RNDRUSDT: 2751841, 2054120 created. Success.', 'ZILUSDT: 2751841, 600913 created. Success.', 'KAVAUSDT: 2751841, 955989 created. Success.', 'NEXOUSDT: 2751841, 2274680 created. Success.', 'CVXUSDT: 2751841, 2091800 created. Success.', 'ENJUSDT: 2751841, 683650 created. Success.', 'OSMOUSDT: 2751841, 2536521 created. Success.', 'DYDXUSDT: 2751841, 1940001 created. Success.', 'BATUSDT: 2751841, 619570 created. Success.', 'SSVUSDT: 2751841, 2707760 created. Success.', 'TUSDT: 2751841, 2183360 created. Success.', 'XEMUSDT: 2751841, 1525724 created. Success.', 'WOOUSDT: 2751841, 2159030 created. Success.', 'CELOUSDT: 2751841, 1585583 created. Success.', 'BALUSDT: 2751841, 1374104 created. Success.', 'ROSEUSDT: 2751841, 1518224 created. Success.', 'TFUELUSDT: 2751841, 735249 created. Success.', 'QTUMUSDT: 2751841, 117290 created. Success.', 'HOTUSDT: 2751841, 599409 created. Success.', 'RVNUSDT: 2751841, 913389 created. Success.', 'ANKRUSDT: 2751841, 821829 created. Success.', 'INJUSDT: 2751841, 1476223 created. Success.', 'COMPUSDT: 2751841, 1306634 created. Success.', 'LUNAUSDT: 2751841, 1414984 created. Success.', 'DCRUSDT: 2751841, 1356764 created. Success.', 'FETUSDT: 2751841, 613810 created. Success.', 'MAGICUSDT: 2751841, 2601200 created. Success.', 'KSMUSDT: 2751841, 1408964 created. Success.', 'GALAUSDT: 2751841, 1946001 created. Success.', 'SXPUSDT: 2751841, 1342783 created. Success.', 'AUDIOUSDT: 2751841, 1480004 created. Success.', 'GNOUSDT: 2751841, 1925841 created. Success.', 'MOBUSDT: 2751841, 2274440 created. Success.', 'YFIUSDT: 2751841, 1373023 created. Success.', 'ASTRUSDT: 2751841, 2188130 created. Success.', 'ARUSDT: 2751841, 1770950 created. Success.', 'ENSUSDT: 2751841, 2029460 created. Success.', 'ONEUSDT: 2751841, 746410 created. Success.', 'IOTXUSDT: 2751841, 984706 created. Success.', 'SUSHIUSDT: 2751841, 1404643 created. Success.', 'GMTUSDT: 2751841, 2201120 created. Success.', 'GLMUSDT: 2751841, 2738000 created. Success.', 'WAVESUSDT: 2751841, 554770 created. Success.', 'JASMYUSDT: 2751841, 2047040 created. Success.', 'BANDUSDT: 2751841, 903309 created. Success.', 'JSTUSDT: 2751841, 1374104 created. Success.', 'GNSUSDT: 2751841, 2697890 created. Success.', 'OMGUSDT: 2751841, 662050 created. Success.', 'KDAUSDT: 2751841, 2203970 created. Success.', 'GLMRUSDT: 2751841, 2119280 created. Success.', 'OCEANUSDT: 2751841, 1385744 created. Success.', 'CKBUSDT: 2751841, 1616033 created. Success.', 'SCUSDT: 2751841, 1322204 created. Success.', 'USTCUSDT: 2751841, 2727920 created. Success.', 'ICXUSDT: 2751841, 240483 created. Success.', 'LQTYUSDT: 2751841, 2713700 created. Success.', 'ONTUSDT: 2751841, 233221 created. Success.', 'HIVEUSDT: 2751841, 1221615 created. Success.', 'ZRXUSDT: 2751841, 613449 created. Success.', 'IOSTUSDT: 2751841, 644778 created. Success.', 'JOEUSDT: 2751841, 2098820 created. Success.', 'BICOUSDT: 2751841, 2071160 created. Success.', 'LPTUSDT: 2751841, 1790690 created. Success.', 'FLUXUSDT: 2751841, 2072600 created. Success.', 'RSRUSDT: 2751841, 1397203 created. Success.', 'ACHUSDT: 2751841, 2117480 created. Success.', 'SFPUSDT: 2751841, 1634813 created. Success.', 'ELFUSDT: 2751841, 1938921 created. Success.', 'SKLUSDT: 2751841, 1535024 created. Success.', 'CELRUSDT: 2751841, 649090 created. Success.', 'BNXUSDT: 2751841, 2030000 created. Success.', 'WAXPUSDT: 2751841, 1915791 created. Success.', 'AMPUSDT: 2751841, 2048120 created. Success.', 'DGBUSDT: 2751841, 1342784 created. Success.', 'STORJUSDT: 2751841, 1356763 created. Success.', 'UMAUSDT: 2751841, 1416043 created. Success.', 'ILVUSDT: 2751841, 1958961 created. Success.', 'RIFUSDT: 2751841, 1618219 created. Success.', 'ZENUSDT: 2751841, 1322204 created. Success.', 'RLCUSDT: 2751841, 984706 created. Success.', 'MULTIUSDT: 2751841, 2240960 created. Success.', 'LSKUSDT: 2751841, 1105965 created. Success.', 'SYNUSDT: 2751841, 2705030 created. Success.', 'IDUSDT: 2751841, 2745440 created. Success.', 'KNCUSDT: 2751841, 1288034 created. Success.', 'API3USDT: 2751841, 2133350 created. Success.', 'SYSUSDT: 2751841, 1962081 created. Success.', 'PUNDIXUSDT: 2751841, 1720505 created. Success.', 'PLAUSDT: 2751841, 2048120 created. Success.', 'HFTUSDT: 2751841, 2551101 created. Success.', 'XNOUSDT: 2751841, 2143280 created. Success.', 'PEOPLEUSDT: 2751841, 2091320 created. Success.', 'STGUSDT: 2751841, 2435660 created. Success.', 'SLPUSDT: 2751841, 1750791 created. Success.', 'GTCUSDT: 2751841, 1809710 created. Success.', 'CHRUSDT: 2751841, 1236555 created. Success.', 'RENUSDT: 2751841, 913389 created. Success.', 'NMRUSDT: 2751841, 1385984 created. Success.', 'SCRTUSDT: 2751841, 2133440 created. Success.', 'MCUSDT: 2751841, 2061200 created. Success.', 'DENTUSDT: 2751841, 871149 created. Success.', 'DEXEUSDT: 2751841, 1871631 created. Success.', 'COCOSUSDT: 2751841, 868689 created. Success.', 'STRAXUSDT: 2751841, 1516483 created. Success.', 'ANTUSDT: 2751841, 1376774 created. Success.', 'PYRUSDT: 2751841, 2052560 created. Success.', 'POLYXUSDT: 2751841, 2520561 created. Success.', 'REQUSDT: 2751841, 1911681 created. Success.', 'ONGUSDT: 2751841, 596534 created. Success.', 'GALUSDT: 2751841, 2283200 created. Success.', 'CTSIUSDT: 2751841, 1215825 created. Success.', 'RADUSDT: 2751841, 1980501 created. Success.', 'HOOKUSDT: 2751841, 2585751 created. Success.', 'VGXUSDT: 2751841, 2046740 created. Success.', 'BNTUSDT: 2751841, 1105966 created. Success.', 'STEEMUSDT: 2751841, 2264360 created. Success.', 'POWRUSDT: ', 'COTIUSDT: 2751841, 1134593 created. Success.', 'ARDRUSDT: 2751841, 1247714 created. Success.', 'STPTUSDT: 2751841, 1174785 created. Success.', 'MBOXUSDT: 2751841, 1910121 created. Success.', 'PROMUSDT: 2751841, 2738000 created. Success.', 'ALPHAUSDT: 2751841, 1460444 created. Success.', 'VTHOUSDT: 2751841, 1338284 created. Success.', 'WINUSDT: 2751841, 834549 created. Success.', 'MTLUSDT: 2751841, 865749 created. Success.', 'TRUUSDT: 2751841, 1605653 created. Success.', 'DODOUSDT: 2751841, 1650394 created. Success.', 'MDXUSDT: 2751841, 1785170 created. Success.', 'NKNUSDT: 2751841, 936549 created. Success.', 'PONDUSDT: 2751841, 1676104 created. Success.', 'PHAUSDT: 2751841, 1831311 created. Success.', 'LOOMUSDT: 2751841, 2748960 created. Success.', 'DUSKUSDT: 2751841, 820149 created. Success.', 'XVSUSDT: 2751841, 1454684 created. Success.', 'HIGHUSDT: 2751841, 2082740 created. Success.', 'WNXMUSDT: 2751841, 1398644 created. Success.', 'SPELLUSDT: 2751841, 2092880 created. Success.', 'CTKUSDT: 2751841, 1485104 created. Success.', 'FUNUSDT: 2751841, 871149 created. Success.', 'TLMUSDT: 2751841, 1726385 created. Success.', 'QKCUSDT: 2751841, 2738000 created. Success.', 'BSWUSDT: 2751841, 2218490 created. Success.', 'ACAUSDT: 2751841, 2139200 created. Success.', 'WRXUSDT: 2751841, 1104045 created. Success.', 'TOMOUSDT: 2751841, 867368 created. Success.', 'OGNUSDT: 2751841, 1065226 created. Success.', 'C98USDT: 2751841, 1871751 created. Success.', 'REEFUSDT: 2751841, 1575353 created. Success.', 'OXTUSDT: 2751841, 1433279 created. Success.', 'BETAUSDT: 2751841, 1982241 created. Success.', 'YGGUSDT: 2751841, 1961841 created. Success.', 'ATAUSDT: 2751841, 1805150 created. Success.', 'LINAUSDT: 2751841, 1689304 created. Success.', 'STMXUSDT: 2751841, 1286294 created. Success.', 'PERPUSDT: 2751841, 1690504 created. Success.', 'MOVRUSDT: 2751841, 2026520 created. Success.', 'WANUSDT: 2751841, 871149 created. Success.', 'TKOUSDT: 2751841, 1718165 created. Success.', 'BADGERUSDT: 2751841, 1666114 created. Success.', 'DARUSDT: 2751841, 2020880 created. Success.', 'KEYUSDT: ', 'FORTHUSDT: 2751841, 1740815 created. Success.', 'SUPERUSDT: 2751841, 1699264 created. Success.', 'ARPAUSDT: 2751841, 973989 created. Success.', 'UTKUSDT: 2751841, 1448984 created. Success.', 'MBLUSDT: 2751841, 1127393 created. Success.', 'IRISUSDT: 2751841, 1374103 created. Success.', 'CTXCUSDT: 2751841, 996886 created. Success.', 'GHSTUSDT: 2751841, 1911681 created. Success.', 'XVGUSDT: 2751841, 1803950 created. Success.', 'ALPACAUSDT: 2751841, 1898871 created. Success.', 'QUICKUSDT: 2751841, 1901721 created. Success.', 'PHBUSDT: 2751841, 2566701 created. Success.', 'RAYUSDT: 2751841, 1897311 created. Success.', 'FLMUSDT: 2751841, 1443284 created. Success.', 'LITUSDT: 2751841, 1628633 created. Success.', 'LTOUSDT: 2751841, 1107646 created. Success.', 'MDTUSDT: 2751841, 1278314 created. Success.', 'MLNUSDT: 2751841, 1845471 created. Success.', 'YFIIUSDT: 2751841, 1404644 created. Success.', 'POLSUSDT: 2751841, 1777850 created. Success.', 'BIFIUSDT: 2751841, 2234060 created. Success.', 'KMDUSDT: 2751841, 1374104 created. Success.', 'RAREUSDT: 2751841, 1986201 created. Success.', 'TVKUSDT: 2751841, 1891791 created. Success.', 'HIFIUSDT: 2751841, 2645840 created. Success.', 'LOKAUSDT: 2751841, 2132000 created. Success.', 'BAKEUSDT: 2751841, 1750791 created. Success.', 'BARUSDT: 2751841, 1738055 created. Success.', 'AUCTIONUSDT: 2751841, 2012360 created. Success.', 'IDEXUSDT: 2751841, 1940361 created. Success.', 'ALCXUSDT: 2751841, 2058200 created. Success.', 'DIAUSDT: 2751841, 1409084 created. Success.', 'KP3RUSDT: 2751841, 2032520 created. Success.', 'GASUSDT: 2751841, 2738000 created. Success.', 'BTSUSDT: 2751841, 1105965 created. Success.', 'FISUSDT: 2751841, 1667554 created. Success.', 'BONDUSDT: 2751841, 1845471 created. Success.', 'CHESSUSDT: 2751841, 2002040 created. Success.', 'LEVERUSDT: 2751841, 2382080 created. Success.', 'QIUSDT: 2751841, 2036720 created. Success.', 'DFUSDT: 2751841, 1962081 created. Success.', 'AVAUSDT: 2751841, 1525724 created. Success.', 'ERNUSDT: 2751841, 1826751 created. Success.', 'ORNUSDT: 2751841, 1446104 created. Success.', 'SUNUSDT: 2751841, 1439383 created. Success.', 'REIUSDT: 2751841, 2281280 created. Success.', 'TROYUSDT: 2751841, 1014766 created. Success.', 'BELUSDT: 2751841, 1424624 created. Success.', 'DATAUSDT: 2751841, 1193445 created. Success.', 'VOXELUSDT: 2751841, 2078720 created. Success.', 'BLZUSDT: 2751841, 1374104 created. Success.', 'NULSUSDT: 2751841, 297282 created. Success.', 'DEGOUSDT: 2751841, 1677724 created. Success.', 'AGLDUSDT: 2751841, 1977621 created. Success.', 'COSUSDT: 2751841, 837429 created. Success.', 'CLVUSDT: 2751841, 1880031 created. Success.', 'FIROUSDT: 2751841, 1619753 created. Success.', 'VIDTUSDT: 2751841, 1953420 created. Success.', 'CITYUSDT: 2751841, 2029520 created. Success.', 'PSGUSDT: 2751841, 1564124 created. Success.', 'ADXUSDT: 2751841, 2012360 created. Success.', 'FIOUSDT: 2751841, 1408714 created. Success.', 'TRBUSDT: 2751841, 1400084 created. Success.', 'ALPINEUSDT: 2751841, 2178080 created. Success.', 'UNFIUSDT: 2751841, 1518104 created. Success.', 'HARDUSDT: 2751841, 1499384 created. Success.', 'FARMUSDT: 2751841, 1898871 created. Success.', 'OAXUSDT: 2751841, 2748080 created. Success.', 'LAZIOUSDT: 2751841, 2000960 created. Success.', 'VITEUSDT: 2751841, 1027006 created. Success.', 'BURGERUSDT: 2751841, 1750791 created. Success.', 'FRONTUSDT: 2751841, 1976361 created. Success.', 'AMBUSDT: 2751841, 2717840 created. Success.', 'OMUSDT: 2751841, 1674724 created. Success.', 'EPXUSDT: 2751841, 2308640 created. Success.', 'WINGUSDT: 2751841, 1425704 created. Success.', 'SANTOSUSDT: 2751841, 2059940 created. Success.', 'AKROUSDT: 2751841, 1493684 created. Success.', 'NEBLUSDT: 2751841, 2516241 created. Success.', 'DOCKUSDT: 2751841, 871149 created. Success.', 'FIDAUSDT: 2751841, 1970721 created. Success.', 'FORUSDT: 2751841, 1911681 created. Success.', 'DREPUSDT: 2751841, 1079400 created. Success.', 'PORTOUSDT: 2751841, 2038400 created. Success.', 'VIBUSDT: 2751841, 2707760 created. Success.', 'WTCUSDT: 2751841, 1193445 created. Success.', 'AUTOUSDT: 2751841, 1710725 created. Success.', 'OOKIUSDT: 2751841, 2092640 created. Success.', 'PERLUSDT: 2751841, 870189 created. Success.', 'PNTUSDT: 2751841, 1302193 created. Success.', 'PROSUSDT: 2751841, 2667440 created. Success.', 'CVPUSDT: 2751841, 1976361 created. Success.', 'ACMUSDT: 2751841, 1657654 created. Success.', 'UFTUSDT: 2751841, 2738000 created. Success.', 'JUVUSDT: 2751841, 1564124 created. Success.', 'OGUSDT: 2751841, 1576793 created. Success.', 'ATMUSDT: 2751841, 1576793 created. Success.', 'ASRUSDT: 2751841, 1576793 created. Success.']\n"
     ]
    }
   ],
   "source": [
    "file_id = \"08_all\"\n",
    "\n",
    "table = np.load( os.path.join( Config['BinanceCandlesNumpy'], \"table_\" + file_id + \".npy\") )\n",
    "print(\"table: {}\".format(table.shape))\n",
    "table_markets = []\n",
    "with open( os.path.join( Config['BinanceCandlesNumpy'], \"reports_\" + file_id + \".json\"), \"r\") as f:\n",
    "    reports = json.loads(f.read())\n",
    "print(reports)\n",
    "\n"
   ]
  },
  {
   "cell_type": "code",
   "execution_count": null,
   "metadata": {},
   "outputs": [],
   "source": [
    "gc.collect()"
   ]
  },
  {
   "cell_type": "code",
   "execution_count": 19,
   "metadata": {},
   "outputs": [
    {
     "name": "stdout",
     "output_type": "stream",
     "text": [
      "nan nan\n",
      "905355689 518898375 149383 422715 385885216\n"
     ]
    }
   ],
   "source": [
    "print(np.min(table[:,:,11]), np.max(table[:,:,11]))\n",
    "nTotal = table.shape[0] * table.shape[1]\n",
    "nPrependedCandles = np.sum(table[:,:,11] == -1)\n",
    "nCoincodexCandles = np.sum(table[:,:,11] == -2)\n",
    "nInterpolatedCandles = np.sum(table[:,:,11] == -3)\n",
    "nBinanceCandles = nTotal - nPrependedCandles - nCoincodexCandles - nInterpolatedCandles\n",
    "print(nTotal, nPrependedCandles, nCoincodexCandles, nInterpolatedCandles, nBinanceCandles)\n"
   ]
  },
  {
   "cell_type": "code",
   "execution_count": 26,
   "metadata": {},
   "outputs": [
    {
     "data": {
      "text/plain": [
       "([<matplotlib.patches.Wedge at 0x7f644675c790>,\n",
       "  <matplotlib.patches.Wedge at 0x7f644676b2d0>,\n",
       "  <matplotlib.patches.Wedge at 0x7f644676bd90>,\n",
       "  <matplotlib.patches.Wedge at 0x7f6446778810>],\n",
       " [Text(-0.2526717571127702, -1.0705872141761947, 'nBinanceCandles'),\n",
       "  Text(0.9841766011599875, -0.49132109432546767, 'nCoincodexCandles'),\n",
       "  Text(0.2536872393681524, 1.0703470393203158, 'nPrependedCandles'),\n",
       "  Text(-1.0999988160849516, 0.001613880945073227, 'nInterpolatedCandles')],\n",
       " [Text(-0.13782095842514736, -0.5839566622779243, '42.6225%'),\n",
       "  Text(0.5368236006327204, -0.2679933241775278, '0.0165%'),\n",
       "  Text(0.13837485783717401, 0.5838256578110813, '57.3143%'),\n",
       "  Text(-0.5999993542281554, 0.000880298697312669, '0.0467%')])"
      ]
     },
     "execution_count": 26,
     "metadata": {},
     "output_type": "execute_result"
    },
    {
     "data": {
      "image/png": "[encoded data removed]",
      "text/plain": [
       "<Figure size 640x480 with 1 Axes>"
      ]
     },
     "metadata": {},
     "output_type": "display_data"
    }
   ],
   "source": [
    "import matplotlib.pyplot as plt\n",
    "labels = 'nBinanceCandles', 'nCoincodexCandles', 'nPrependedCandles', 'nInterpolatedCandles'\n",
    "sizes = [nBinanceCandles, nCoincodexCandles, nPrependedCandles, nInterpolatedCandles]\n",
    "\n",
    "fig, ax = plt.subplots()\n",
    "ax.pie(sizes, labels=labels, autopct='%1.4f%%', shadow=True, startangle=0)"
   ]
  },
  {
   "cell_type": "code",
   "execution_count": null,
   "metadata": {},
   "outputs": [],
   "source": [
    "market = 0\n",
    "nLatest = 500\n",
    "p = table[market, -nLatest:, 4]\n",
    "ap = table[market, -nLatest:, 7] / (table[market, -nLatest:, 5] + 1e-9)\n",
    "ap2 = table[market, -nLatest:, 10] / (table[market, -nLatest:, 9] + 1e-9)\n",
    "rate2 = p/ (ap2+1e-9)\n",
    "series = [\n",
    "    (ap2, \"TakerBuyQuoteV / TakerBuyBaseV\", \"brown\"),\n",
    "    # (ap, \"QuoteV / BaseV\", \"orange\"),\n",
    "    # (p, \"closing Price\", \"b\"),\n",
    "]\n",
    "ShowSingle(\"Market {}\".format(market), series)"
   ]
  },
  {
   "attachments": {},
   "cell_type": "markdown",
   "metadata": {},
   "source": [
    "- I hoped this would make a good average price.\n",
    "- Disappointed it has lots of missing values. ------ market 0."
   ]
  },
  {
   "cell_type": "code",
   "execution_count": null,
   "metadata": {},
   "outputs": [],
   "source": [
    "market = 1\n",
    "nLatest = 500\n",
    "p = table[market, -nLatest:, 4]\n",
    "ap = table[market, -nLatest:, 7] / (table[market, -nLatest:, 5] + 1e-9)\n",
    "ap2 = table[market, -nLatest:, 10] / (table[market, -nLatest:, 9] + 1e-9)\n",
    "rate2 = p/ (ap2+1e-9)\n",
    "series = [\n",
    "    (ap2, \"TakerBuyQuoteV / TakerBuyBaseV\", \"brown\"),\n",
    "    # (ap, \"QuoteV / BaseV\", \"orange\"),\n",
    "    # (p, \"closing Price\", \"b\"),\n",
    "]\n",
    "ShowSingle(\"Market {}\".format(market), series)"
   ]
  },
  {
   "attachments": {},
   "cell_type": "markdown",
   "metadata": {},
   "source": [
    "- The average price v1 (coming from QuoteV / BaseV) is almost the same to the average price v2 (coming from TakerBuyQuoteV / TakerBuyBaseV).\n",
    "- Statistically there is no difference between them."
   ]
  },
  {
   "cell_type": "code",
   "execution_count": null,
   "metadata": {},
   "outputs": [],
   "source": [
    "market = 1\n",
    "nLatest = 500\n",
    "p = table[market, -nLatest:, 4]\n",
    "ap = table[market, -nLatest:, 7] / (table[market, -nLatest:, 5] + 1e-9)\n",
    "ap2 = table[market, -nLatest:, 10] / (table[market, -nLatest:, 9] + 1e-9)\n",
    "rate2 = p/ (ap2+1e-9)\n",
    "series = [\n",
    "    (ap2, \"TakerBuyQuoteV / TakerBuyBaseV\", \"brown\"),\n",
    "    (ap, \"QuoteV / BaseV\", \"orange\"),\n",
    "    # (p, \"closing Price\", \"b\"),\n",
    "]\n",
    "ShowSingle(\"Market {}\".format(market), series)"
   ]
  },
  {
   "attachments": {},
   "cell_type": "markdown",
   "metadata": {},
   "source": [
    "- The average price v1 (coming from QuoteV / BaseV) is almost the same to the average price v2 (coming from TakerBuyQuoteV / TakerBuyBaseV).\n",
    "- Statistically there is no difference between them."
   ]
  },
  {
   "cell_type": "code",
   "execution_count": null,
   "metadata": {},
   "outputs": [],
   "source": [
    "market = 0\n",
    "nLatest = 500\n",
    "p = table[market, -nLatest:, 4]\n",
    "ap = table[market, -nLatest:, 7] / (table[market, -nLatest:, 5] + 1e-9)\n",
    "ap2 = table[market, -nLatest:, 10] / (table[market, -nLatest:, 9] + 1e-9)\n",
    "rate2 = p/ (ap2+1e-9)\n",
    "series = [\n",
    "    (ap2, \"TakerBuyQuoteV / TakerBuyBaseV\", \"brown\"),\n",
    "    (ap, \"QuoteV / BaseV\", \"orange\"),\n",
    "    # (p, \"closing Price\", \"b\"),\n",
    "]\n",
    "ShowSingle(\"Market {}\".format(market), series)"
   ]
  },
  {
   "attachments": {},
   "cell_type": "markdown",
   "metadata": {},
   "source": [
    "- But, for Market 0 again, average price v1 and v2 differ much."
   ]
  },
  {
   "cell_type": "code",
   "execution_count": null,
   "metadata": {},
   "outputs": [],
   "source": [
    "market = 2\n",
    "nLatest = 500\n",
    "p = table[market, -nLatest:, 4]\n",
    "ap = table[market, -nLatest:, 7] / (table[market, -nLatest:, 5] + 1e-9)\n",
    "ap2 = table[market, -nLatest:, 10] / (table[market, -nLatest:, 9] + 1e-9)\n",
    "rate2 = p/ (ap2+1e-9)\n",
    "series = [\n",
    "    (ap2, \"TakerBuyQuoteV / TakerBuyBaseV\", \"brown\"),\n",
    "    (ap, \"QuoteV / BaseV\", \"orange\"),\n",
    "    # (p, \"closing Price\", \"b\"),\n",
    "]\n",
    "ShowSingle(\"Market {}\".format(market), series)"
   ]
  },
  {
   "attachments": {},
   "cell_type": "markdown",
   "metadata": {},
   "source": [
    "For Market 2, they differ much."
   ]
  },
  {
   "cell_type": "code",
   "execution_count": null,
   "metadata": {},
   "outputs": [],
   "source": [
    "market = 3\n",
    "nLatest = 500\n",
    "p = table[market, -nLatest:, 4]\n",
    "ap = table[market, -nLatest:, 7] / (table[market, -nLatest:, 5] + 1e-9)\n",
    "ap2 = table[market, -nLatest:, 10] / (table[market, -nLatest:, 9] + 1e-9)\n",
    "rate2 = p/ (ap2+1e-9)\n",
    "series = [\n",
    "    (ap2, \"TakerBuyQuoteV / TakerBuyBaseV\", \"brown\"),\n",
    "    (ap, \"QuoteV / BaseV\", \"orange\"),\n",
    "    # (p, \"closing Price\", \"b\"),\n",
    "]\n",
    "ShowSingle(\"Market {}\".format(market), series)"
   ]
  },
  {
   "attachments": {},
   "cell_type": "markdown",
   "metadata": {},
   "source": [
    "- For Market 3, they seem to be exactly the same."
   ]
  },
  {
   "attachments": {},
   "cell_type": "markdown",
   "metadata": {},
   "source": [
    "So, average price v1 and v2 are not very reliable.\n",
    "- They must be the same, in theory.\n",
    "- But they differ in reality candles, due to missing (represented by zero) average prices, not due to value differences.\n",
    "- The missing average prices come from missing (represented by zero) QuoteV or TakerBuyQuoteV.\n",
    "- If QuoteV is missing, BaseV is also missing, and vice versa."
   ]
  },
  {
   "attachments": {},
   "cell_type": "markdown",
   "metadata": {},
   "source": [
    "The reason:\n",
    "- Not all one-minute candles have volume, although they always have prices.\n",
    "- Prices without volume is possible, because a market price is inherited from previous candle if there is no transaction in the current candle.\n",
    "- Let's confirm this."
   ]
  },
  {
   "cell_type": "code",
   "execution_count": null,
   "metadata": {},
   "outputs": [],
   "source": [
    "market = 0\n",
    "qv = table[market, -nLatest:, 7]\n",
    "index = qv == 0 # np.logical_and( table[market, -nLatest:, 5] == 0, table[market, -nLatest:, 10] == 0 )\n",
    "op = table[market, -nLatest:, 1][index]\n",
    "hp = table[market, -nLatest:, 2][index]\n",
    "lp = table[market, -nLatest:, 3][index]\n",
    "cp = table[market, -nLatest:, 4][index]\n",
    "series = [\n",
    "    (op, \"opening price at zero-volume candel\", \"b\"), \n",
    "    (hp, \"hight price at zero-volume candel\", \"g\"), \n",
    "    (lp, \"low price at zero-volume candel\", \"yellow\"), \n",
    "    (cp, \"closing price zero-volume candel\", \"r\"), \n",
    "]\n",
    "ShowSingle(\"OHLC prices at candles where QuoteV is zero\", series)"
   ]
  },
  {
   "attachments": {},
   "cell_type": "markdown",
   "metadata": {},
   "source": [
    "- OHLC prices are exactly the same with each other, if QuoteV is zero in a candle.\n",
    "- It means no transactions took place in the candle, and the prices are inherited from previous candles. (edited)"
   ]
  },
  {
   "cell_type": "code",
   "execution_count": null,
   "metadata": {},
   "outputs": [],
   "source": [
    "qv = table[market, -nLatest:, 7]\n",
    "index = qv == 0 # np.logical_and( table[market, -nLatest:, 5] == 0, table[market, -nLatest:, 10] == 0 )\n",
    "op = table[market, -nLatest-1:-1, 1][index]\n",
    "hp = table[market, -nLatest-1:-1, 2][index]\n",
    "lp = table[market, -nLatest-1:-1, 3][index]\n",
    "cp = table[market, -nLatest-1:-1, 4][index]\n",
    "cp_org = table[market, -nLatest:, 4][index]\n",
    "series = [\n",
    "    (op, \"opening price at the previous candle of zero-volume candel\", \"b\"), \n",
    "    (hp, \"hight price at the previous candle of zero-volume candel\", \"g\"), \n",
    "    (lp, \"low price at the previous candle of zero-volume candel\", \"yellow\"), \n",
    "    (cp, \"closing price at the previous candle of zero-volume candel\", \"r\"), \n",
    "    (cp_org, \"closing price at zero-voluem candles\", \"c\")\n",
    "]\n",
    "ShowSingle(\"OHLC prices at candles where QuoteV is zero, are the same and inherited from previous candles closing pice\", series)"
   ]
  },
  {
   "attachments": {},
   "cell_type": "markdown",
   "metadata": {},
   "source": [
    "Wow, we are right.\n",
    "Only the red line is masked by the cyan line completely.\n",
    "- It means the closing price at zero-volume candles are inherited from the closing (so, the latest) price of the previous candle.\n",
    "- All OHLC prices at zero-volume candles are the same to each other.\n",
    "- QuoteV and BaseV are zero or non-zero simultaneously.\n",
    "- TakerBuyQuoteV and TakerBuyBaseV) are zero or non-zero simultaneously.\n",
    "- If QuoteV (or BaseV) is zero, then TakerBuy volumes are aso zero. But not vice versa, because the former is part of the latter.\n",
    "- TakerBuy volumes are much more frequently zero.\n",
    "- Zero volume means there was no transaction in the candle. Hence the price inheritance."
   ]
  },
  {
   "cell_type": "code",
   "execution_count": null,
   "metadata": {},
   "outputs": [],
   "source": [
    "market = 0\n",
    "nLatest = 500\n",
    "p = table[market, -nLatest:, 4]\n",
    "ap = table[market, -nLatest:, 7] / (table[market, -nLatest:, 5] + 1e-9)\n",
    "ap2 = table[market, -nLatest:, 10] / (table[market, -nLatest:, 9] + 1e-9)\n",
    "rate2 = p/ (ap2+1e-9)\n",
    "series = [\n",
    "    (ap2, \"TakerBuyQuoteV / TakerBuyBaseV\", \"brown\"),\n",
    "    (ap, \"QuoteV / BaseV\", \"orange\"),\n",
    "    (p, \"closing Price\", \"b\"),\n",
    "]\n",
    "ShowSingle(\"Market {}\".format(market), series)"
   ]
  },
  {
   "attachments": {},
   "cell_type": "markdown",
   "metadata": {},
   "source": [
    "The closing price has no missing (zero) value, unlike the average price.\n",
    "- This is because, at the candles that have no transactions\n",
    "the closing price, and all other prices, are inherited from the previous candle\n",
    "- while volumes cannot be inherited from the previous candles, and set to zero (missing).\n",
    "- zero volumes generates zero average prices. (average price = baseV / quoteV)"
   ]
  },
  {
   "cell_type": "code",
   "execution_count": null,
   "metadata": {},
   "outputs": [],
   "source": [
    "market = 1\n",
    "nLatest = 500\n",
    "p = table[market, -nLatest:, 4]\n",
    "ap = table[market, -nLatest:, 7] / (table[market, -nLatest:, 5] + 1e-9)\n",
    "ap2 = table[market, -nLatest:, 10] / (table[market, -nLatest:, 9] + 1e-9)\n",
    "rate2 = p/ (ap2+1e-9)\n",
    "series = [\n",
    "    (ap2, \"TakerBuyQuoteV / TakerBuyBaseV\", \"brown\"),\n",
    "    (ap, \"QuoteV / BaseV\", \"orange\"),\n",
    "    (p, \"closing Price\", \"b\"),\n",
    "]\n",
    "ShowSingle(\"Market {}\".format(market), series)"
   ]
  },
  {
   "attachments": {},
   "cell_type": "markdown",
   "metadata": {},
   "source": [
    "So, the question is: The average price will be reliable if all candles have transactions (eq: if the market is busy) We can confirm it:\n",
    "- Market 1 looks busy, and all candles have transaction(s).\n",
    "- As we learned, if there is QuoteV (or BaseV), then there is TakerBuy volumes.\n",
    "- In a busy market, the average price always exist, and the plot shows the average price is almost the same to closing price."
   ]
  },
  {
   "cell_type": "code",
   "execution_count": null,
   "metadata": {},
   "outputs": [],
   "source": [
    "market = 2\n",
    "nLatest = 500\n",
    "p = table[market, -nLatest:, 4]\n",
    "ap = table[market, -nLatest:, 7] / (table[market, -nLatest:, 5] + 1e-9)\n",
    "ap2 = table[market, -nLatest:, 10] / (table[market, -nLatest:, 9] + 1e-9)\n",
    "rate2 = p/ (ap2+1e-9)\n",
    "series = [\n",
    "    (ap2, \"TakerBuyQuoteV / TakerBuyBaseV\", \"brown\"),\n",
    "    (ap, \"QuoteV / BaseV\", \"orange\"),\n",
    "    (p, \"closing Price\", \"b\"),\n",
    "]\n",
    "ShowSingle(\"Market {}\".format(market), series)"
   ]
  },
  {
   "attachments": {},
   "cell_type": "markdown",
   "metadata": {},
   "source": [
    "Market 2 is similar to Market 0, and has missing average prices (missing volumes, or candles that have no transactions)"
   ]
  },
  {
   "cell_type": "code",
   "execution_count": null,
   "metadata": {},
   "outputs": [],
   "source": [
    "market = 3\n",
    "nLatest = 500\n",
    "p = table[market, -nLatest:, 4]\n",
    "ap = table[market, -nLatest:, 7] / (table[market, -nLatest:, 5] + 1e-9)\n",
    "ap2 = table[market, -nLatest:, 10] / (table[market, -nLatest:, 9] + 1e-9)\n",
    "rate2 = p/ (ap2+1e-9)\n",
    "series = [\n",
    "    (ap2, \"TakerBuyQuoteV / TakerBuyBaseV\", \"brown\"),\n",
    "    (ap, \"QuoteV / BaseV\", \"orange\"),\n",
    "    (p, \"closing Price\", \"b\"),\n",
    "]\n",
    "ShowSingle(\"Market {}\".format(market), series)"
   ]
  },
  {
   "attachments": {},
   "cell_type": "markdown",
   "metadata": {},
   "source": [
    "What's happening? Market 3 has the same plot with Market 1."
   ]
  },
  {
   "cell_type": "code",
   "execution_count": null,
   "metadata": {},
   "outputs": [],
   "source": [
    "market = 7\n",
    "nLatest = 500\n",
    "p = table[market, -nLatest:, 4]\n",
    "ap = table[market, -nLatest:, 7] / (table[market, -nLatest:, 5] + 1e-9)\n",
    "ap2 = table[market, -nLatest:, 10] / (table[market, -nLatest:, 9] + 1e-9)\n",
    "rate2 = p/ (ap2+1e-9)\n",
    "series = [\n",
    "    (ap2, \"TakerBuyQuoteV / TakerBuyBaseV\", \"brown\"),\n",
    "    (ap, \"QuoteV / BaseV\", \"orange\"),\n",
    "    (p, \"closing Price\", \"b\"),\n",
    "]\n",
    "ShowSingle(\"Market {}\".format(market), series)"
   ]
  },
  {
   "attachments": {},
   "cell_type": "markdown",
   "metadata": {},
   "source": [
    "Market 4, 5, and 7 give the same plot.\n",
    "- WOW, only the shape is the same. The absolute values are different.\n",
    "- It means their prices follow the same change.\n",
    "- But Market 7 is independent: (It shows 2 candles that have no transaction, so no average prices) (edited)"
   ]
  },
  {
   "cell_type": "code",
   "execution_count": null,
   "metadata": {},
   "outputs": [],
   "source": [
    "market = 0\n",
    "op = table[market, -nLatest:, 1]\n",
    "hp = table[market, -nLatest:, 2]\n",
    "lp = table[market, -nLatest:, 3]\n",
    "cp = table[market, -nLatest:, 4]\n",
    "series = [\n",
    "    (op, \"opening price\", \"b\"), (hp, \"hight price\", \"g\"), (lp, \"low price\", \"yellow\"), (cp, \"closing price\", \"r\"), \n",
    "]\n",
    "ShowSingle(\"Market {}\".format(market), series)"
   ]
  },
  {
   "attachments": {},
   "cell_type": "markdown",
   "metadata": {},
   "source": [
    "We now know we cannot rely on the average price, which is sometimes missing. The closing price is not missing.\n",
    "- Closing price vs. OHL prices\n",
    "- should we make a new average from OHLC prices?\n",
    "- or, the closing price will do?"
   ]
  },
  {
   "cell_type": "code",
   "execution_count": null,
   "metadata": {},
   "outputs": [],
   "source": [
    "market = 2\n",
    "op = table[market, -nLatest:, 1]\n",
    "hp = table[market, -nLatest:, 2]\n",
    "lp = table[market, -nLatest:, 3]\n",
    "cp = table[market, -nLatest:, 4]\n",
    "series = [\n",
    "    (op, \"opening price\", \"b\"), (hp, \"hight price\", \"g\"), (lp, \"low price\", \"yellow\"), (cp, \"closing price\", \"r\"), \n",
    "]\n",
    "ShowSingle(\"Market {}\".format(market), series)"
   ]
  },
  {
   "attachments": {},
   "cell_type": "markdown",
   "metadata": {},
   "source": [
    "- The closing price looks having less noise than high/low prices.\n",
    "- It meets expectations. High/low prices are wilder and have more noise inherently than opening and closing price, which, unlike H/L prices, have a fixed time point.\n",
    "- Then should we make average of the opening and closing prices?`"
   ]
  },
  {
   "cell_type": "code",
   "execution_count": null,
   "metadata": {},
   "outputs": [],
   "source": [
    "market = 2\n",
    "op = table[market, -nLatest:, 1]\n",
    "hp = table[market, -nLatest:, 2]\n",
    "lp = table[market, -nLatest:, 3]\n",
    "cp = table[market, -nLatest:, 4]\n",
    "series = [\n",
    "    (op, \"opening price\", \"b\"), (cp, \"closing price\", \"r\"), \n",
    "]\n",
    "ShowSingle(\"Market {}\".format(market), series)"
   ]
  },
  {
   "attachments": {},
   "cell_type": "markdown",
   "metadata": {},
   "source": [
    "- Opening and Closing prices have similar degree of noise.\n",
    "- Closing price is a bit more recent, at a microscopic viewpoint.\n",
    "- The average of the two will have more noise."
   ]
  },
  {
   "attachments": {},
   "cell_type": "markdown",
   "metadata": {},
   "source": [
    "Conclusion, for the Mozaic application:\n",
    "- **Take opening time**, and get rid of closing time.\n",
    "- **Take closing price**, and get rid of OHL prices. Don't get the average price of whatever.\n",
    "- **Take QuoteV**. Missing (zero) values are good information, indicating that there candle was not busy with transactions.\n",
    "- Take BaseV, only for the ease of neural compute, not for new information. It's actually redundant infomation.\n",
    "- Take TakerBuyQuoteV. It shows who of taker and maker more wanted the transactions. New information.\n",
    "- Take TakerBuyBaseV, only for the ease of neural compute. It's not new information.\n",
    "- Take the last reserved attributes, which works as a flag that the candle is created by Mozaic.\n",
    "\n",
    "\n",
    "7 of total 11 attributes of a candle are selected, for the sake of memory/compute saving."
   ]
  }
 ],
 "metadata": {
  "kernelspec": {
   "display_name": "Python 3 (ipykernel)",
   "language": "python",
   "name": "python3"
  },
  "language_info": {
   "codemirror_mode": {
    "name": "ipython",
    "version": 3
   },
   "file_extension": ".py",
   "mimetype": "text/x-python",
   "name": "python",
   "nbconvert_exporter": "python",
   "pygments_lexer": "ipython3",
   "version": "3.7.12"
  }
 },
 "nbformat": 4,
 "nbformat_minor": 2
}
