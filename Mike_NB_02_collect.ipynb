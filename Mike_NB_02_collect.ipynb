{
 "cells": [
  {
   "cell_type": "code",
   "execution_count": 1,
   "metadata": {},
   "outputs": [
    {
     "ename": "IndentationError",
     "evalue": "unexpected indent (3100547093.py, line 3)",
     "output_type": "error",
     "traceback": [
      "\u001b[0;36m  File \u001b[0;32m\"/tmp/ipykernel_23072/3100547093.py\"\u001b[0;36m, line \u001b[0;32m3\u001b[0m\n\u001b[0;31m    from scipy import signal\u001b[0m\n\u001b[0m    ^\u001b[0m\n\u001b[0;31mIndentationError\u001b[0m\u001b[0;31m:\u001b[0m unexpected indent\n"
     ]
    }
   ],
   "source": [
    "# Import 3rd-party frameworks.\n",
    "\n",
    "from scipy import signal\n",
    "import matplotlib.pyplot as plt\n",
    "import numpy as np\n",
    "import time as tm\n",
    "from datetime import datetime, timedelta\n",
    "from matplotlib import pyplot as plt"
   ]
  },
  {
   "cell_type": "code",
   "execution_count": 2,
   "metadata": {},
   "outputs": [],
   "source": [
    "from Mike_NB_01 import *"
   ]
  },
  {
   "cell_type": "code",
   "execution_count": 3,
   "metadata": {},
   "outputs": [
    {
     "name": "stdout",
     "output_type": "stream",
     "text": [
      "====== Bot: engine is created.\n",
      "====== Bot: engine is starting...\n",
      "Initializing Binance singleton...\n",
      "====== Bot: Traders, and their strategies/indicators, are created.\n",
      "====== Bot: Traders, and their strategies/indicators, are running...\n"
     ]
    }
   ],
   "source": [
    "# Import the Bot engine.\n",
    "import sys \n",
    "sys.path.append('..')\n",
    "import config\n",
    "from ___Engine import *\n",
    "Engine.ChooseMode(stream=False, show_stream=False, demisser=False, show_demosser=False, traders=True, show_tranders=False, present=True )\n",
    "\n",
    "engine = Engine()\n",
    "engine.Start(Config['structure'], Config['timing'])\n",
    "\n",
    "bn = None\n",
    "if len(engine.exchanges) > 0:\n",
    "    bn = engine.exchanges[0]  # Binance exchange"
   ]
  },
  {
   "cell_type": "code",
   "execution_count": 4,
   "metadata": {},
   "outputs": [
    {
     "name": "stdout",
     "output_type": "stream",
     "text": [
      "\n",
      "Get_Price: klines.BTCUSDT.1m.2023-01-01 00:00:00.2023-03-16 00:00:00\n",
      "klines.BTCUSDT.1m is not available from Binance.\n",
      "Not available from Binance\n"
     ]
    }
   ],
   "source": [
    "# Get_Price_Data_By_Time function seamlessly collects/creates price candles from Binance.\n",
    "\n",
    "start = datetime(2023, 1, 1)    # Any datetime. Note Binance started operation in July 2017.\n",
    "end = datetime(2023, 3, 16)     # Any datetime\n",
    "symbol = \"BTCUSDT\"      # Any pair listed on Binance.\n",
    "interval = \"1m\"         # in '1m', '3m', '5m', '15m', '30m', '1h', '2h', '4h', '6h', '8h', '12h', '1d'.  (excludes: '3d', '1w')\n",
    "prePad = True           # prepend with null candles.\n",
    "#------------------------------------------------------------------------------------------------------------------\n",
    "candles, nFills, successful, _, reason = bn.Get_Price_Data_By_Time(\"klines\", symbol, interval, start, end, prePad=prePad)\n",
    "print(reason)\n",
    "if successful:          # price is a numpy array.\n",
    "    print(\"\\n!!!!!!!!!! (nCandles, nAttributes) = {}, nCreated = {}\".format(candles.shape, nFills))"
   ]
  },
  {
   "cell_type": "code",
   "execution_count": 5,
   "metadata": {},
   "outputs": [
    {
     "name": "stdout",
     "output_type": "stream",
     "text": [
      "Walking through the list...\n",
      "\n",
      "Get_Price: klines.BTCUSDT.1m.2023-01-01 00:00:00.2023-03-16 00:00:00\n",
      "klines.BTCUSDT.1m is not available from Binance.\n",
      "\n",
      "Get_Price: klines.ETHUSDT.1m.2023-01-01 00:00:00.2023-03-16 00:00:00\n",
      "klines.ETHUSDT.1m is not available from Binance.\n",
      "\n",
      "Successful for 0/2 markets\n"
     ]
    }
   ],
   "source": [
    "# Get_Price_Data_By_Time_Batch function executes a batch of Get_Price_Data_By_Time calls.\n",
    "\n",
    "start = datetime(2023, 1, 1)\n",
    "end = datetime(2023, 3, 16)\n",
    "symbols = [\"BTCUSDT\", \"ETHUSDT\"]    # Be careful with market symbols.\n",
    "interval = \"1m\"\n",
    "#-------------------------------------------------------------------------------------------------------\n",
    "table, nFills, successful_symbols, succesful, = bn.Get_Price_Data_By_Time_Batch(\"klines\", symbols, interval, start, end)\n",
    "if succesful:   # table is a numpy array.\n",
    "    print(\"\\n!!!!!!!!!! (nMarkets, nCandles, nAttributes) = {}, nCreated = {}\".format(table.shape, nFills))\n",
    "    print(\"\\n!!!!!!!!!! successful: {}\".format(successful_symbols))"
   ]
  },
  {
   "cell_type": "code",
   "execution_count": 6,
   "metadata": {},
   "outputs": [
    {
     "ename": "ValueError",
     "evalue": "a cannot be empty",
     "output_type": "error",
     "traceback": [
      "\u001b[0;31m---------------------------------------------------------------------------\u001b[0m",
      "\u001b[0;31mValueError\u001b[0m                                Traceback (most recent call last)",
      "\u001b[0;32m/tmp/ipykernel_10448/3411896448.py\u001b[0m in \u001b[0;36m<module>\u001b[0;34m\u001b[0m\n\u001b[1;32m      5\u001b[0m \u001b[0mnLatest\u001b[0m \u001b[0;34m=\u001b[0m \u001b[0;36m1440\u001b[0m \u001b[0;34m*\u001b[0m \u001b[0;36m10\u001b[0m   \u001b[0;31m# the number of candles to show.\u001b[0m\u001b[0;34m\u001b[0m\u001b[0;34m\u001b[0m\u001b[0m\n\u001b[1;32m      6\u001b[0m \u001b[0;31m#-----------------------------------------------------------------\u001b[0m\u001b[0;34m\u001b[0m\u001b[0;34m\u001b[0m\u001b[0;34m\u001b[0m\u001b[0m\n\u001b[0;32m----> 7\u001b[0;31m \u001b[0mEvent_Free_Learning_Scheme\u001b[0m\u001b[0;34m(\u001b[0m\u001b[0mcandles\u001b[0m\u001b[0;34m,\u001b[0m \u001b[0msmallSigma\u001b[0m\u001b[0;34m,\u001b[0m \u001b[0mlargeSigma\u001b[0m\u001b[0;34m,\u001b[0m \u001b[0mnLatest\u001b[0m\u001b[0;34m)\u001b[0m\u001b[0;34m\u001b[0m\u001b[0;34m\u001b[0m\u001b[0m\n\u001b[0m",
      "\u001b[0;32m/mnt/code/Mozaic-Archimedes/Engine/Notebooks/Mike_NB_01.py\u001b[0m in \u001b[0;36mEvent_Free_Learning_Scheme\u001b[0;34m(candles, smallSigma, largeSigma, nLatest)\u001b[0m\n\u001b[1;32m     43\u001b[0m     \u001b[0msmallKernel\u001b[0m \u001b[0;34m=\u001b[0m \u001b[0mnp\u001b[0m\u001b[0;34m.\u001b[0m\u001b[0mfromiter\u001b[0m\u001b[0;34m(\u001b[0m \u001b[0;34m(\u001b[0m\u001b[0mgaussian\u001b[0m\u001b[0;34m(\u001b[0m \u001b[0mx\u001b[0m \u001b[0;34m,\u001b[0m \u001b[0msmallSigma\u001b[0m \u001b[0;34m)\u001b[0m \u001b[0;32mfor\u001b[0m \u001b[0mx\u001b[0m \u001b[0;32min\u001b[0m \u001b[0mrange\u001b[0m\u001b[0;34m(\u001b[0m\u001b[0;34m-\u001b[0m\u001b[0msmallP\u001b[0m\u001b[0;34m+\u001b[0m\u001b[0;36m1\u001b[0m\u001b[0;34m,\u001b[0m \u001b[0;36m1\u001b[0m\u001b[0;34m,\u001b[0m \u001b[0;36m1\u001b[0m \u001b[0;34m)\u001b[0m \u001b[0;34m)\u001b[0m\u001b[0;34m,\u001b[0m \u001b[0mfloat\u001b[0m \u001b[0;34m)\u001b[0m \u001b[0;31m# smallP points, incl 0.\u001b[0m\u001b[0;34m\u001b[0m\u001b[0;34m\u001b[0m\u001b[0m\n\u001b[1;32m     44\u001b[0m \u001b[0;31m#     print(\"smallKernel: {}\".format(smallKernel))\u001b[0m\u001b[0;34m\u001b[0m\u001b[0;34m\u001b[0m\u001b[0;34m\u001b[0m\u001b[0m\n\u001b[0;32m---> 45\u001b[0;31m     \u001b[0mmaP\u001b[0m \u001b[0;34m=\u001b[0m \u001b[0mnp\u001b[0m\u001b[0;34m.\u001b[0m\u001b[0mconvolve\u001b[0m\u001b[0;34m(\u001b[0m\u001b[0mcandles\u001b[0m\u001b[0;34m[\u001b[0m\u001b[0;34m:\u001b[0m\u001b[0;34m,\u001b[0m \u001b[0;36m4\u001b[0m\u001b[0;34m]\u001b[0m\u001b[0;34m,\u001b[0m \u001b[0msmallKernel\u001b[0m\u001b[0;34m,\u001b[0m \u001b[0mmode\u001b[0m\u001b[0;34m=\u001b[0m\u001b[0;34m\"valid\"\u001b[0m\u001b[0;34m)\u001b[0m \u001b[0;34m/\u001b[0m \u001b[0mnp\u001b[0m\u001b[0;34m.\u001b[0m\u001b[0msum\u001b[0m\u001b[0;34m(\u001b[0m\u001b[0msmallKernel\u001b[0m\u001b[0;34m)\u001b[0m \u001b[0;31m# maps to candles[smallP-1:]\u001b[0m\u001b[0;34m\u001b[0m\u001b[0;34m\u001b[0m\u001b[0m\n\u001b[0m\u001b[1;32m     46\u001b[0m     \u001b[0mlog_maP\u001b[0m \u001b[0;34m=\u001b[0m \u001b[0mnp\u001b[0m\u001b[0;34m.\u001b[0m\u001b[0mlog2\u001b[0m\u001b[0;34m(\u001b[0m\u001b[0mmaP\u001b[0m \u001b[0;34m+\u001b[0m \u001b[0;36m1e-9\u001b[0m\u001b[0;34m)\u001b[0m \u001b[0;31m# maps to candles[smallP-1:]\u001b[0m\u001b[0;34m\u001b[0m\u001b[0;34m\u001b[0m\u001b[0m\n\u001b[1;32m     47\u001b[0m \u001b[0;34m\u001b[0m\u001b[0m\n",
      "\u001b[0;32m<__array_function__ internals>\u001b[0m in \u001b[0;36mconvolve\u001b[0;34m(*args, **kwargs)\u001b[0m\n",
      "\u001b[0;32m/opt/conda/lib/python3.7/site-packages/numpy/core/numeric.py\u001b[0m in \u001b[0;36mconvolve\u001b[0;34m(a, v, mode)\u001b[0m\n\u001b[1;32m    839\u001b[0m         \u001b[0ma\u001b[0m\u001b[0;34m,\u001b[0m \u001b[0mv\u001b[0m \u001b[0;34m=\u001b[0m \u001b[0mv\u001b[0m\u001b[0;34m,\u001b[0m \u001b[0ma\u001b[0m\u001b[0;34m\u001b[0m\u001b[0;34m\u001b[0m\u001b[0m\n\u001b[1;32m    840\u001b[0m     \u001b[0;32mif\u001b[0m \u001b[0mlen\u001b[0m\u001b[0;34m(\u001b[0m\u001b[0ma\u001b[0m\u001b[0;34m)\u001b[0m \u001b[0;34m==\u001b[0m \u001b[0;36m0\u001b[0m\u001b[0;34m:\u001b[0m\u001b[0;34m\u001b[0m\u001b[0;34m\u001b[0m\u001b[0m\n\u001b[0;32m--> 841\u001b[0;31m         \u001b[0;32mraise\u001b[0m \u001b[0mValueError\u001b[0m\u001b[0;34m(\u001b[0m\u001b[0;34m'a cannot be empty'\u001b[0m\u001b[0;34m)\u001b[0m\u001b[0;34m\u001b[0m\u001b[0;34m\u001b[0m\u001b[0m\n\u001b[0m\u001b[1;32m    842\u001b[0m     \u001b[0;32mif\u001b[0m \u001b[0mlen\u001b[0m\u001b[0;34m(\u001b[0m\u001b[0mv\u001b[0m\u001b[0;34m)\u001b[0m \u001b[0;34m==\u001b[0m \u001b[0;36m0\u001b[0m\u001b[0;34m:\u001b[0m\u001b[0;34m\u001b[0m\u001b[0;34m\u001b[0m\u001b[0m\n\u001b[1;32m    843\u001b[0m         \u001b[0;32mraise\u001b[0m \u001b[0mValueError\u001b[0m\u001b[0;34m(\u001b[0m\u001b[0;34m'v cannot be empty'\u001b[0m\u001b[0;34m)\u001b[0m\u001b[0;34m\u001b[0m\u001b[0;34m\u001b[0m\u001b[0m\n",
      "\u001b[0;31mValueError\u001b[0m: a cannot be empty"
     ]
    }
   ],
   "source": [
    "# Assess if event-free series has significance, and at what sigma values.\n",
    "\n",
    "smallSigma = 3\n",
    "largeSigma = 60\n",
    "nLatest = 1440 * 10   # the number of candles to show.\n",
    "#-----------------------------------------------------------------\n",
    "Event_Free_Learning_Scheme(candles, smallSigma, largeSigma, nLatest)"
   ]
  },
  {
   "cell_type": "code",
   "execution_count": null,
   "metadata": {},
   "outputs": [],
   "source": [
    "# Guess the best sigma for price and volume\n",
    "\n",
    "pSigma = 3\n",
    "vSigma = 10\n",
    "nLatest = 1440  # minutes in a day.\n",
    "#-------------------------------------------------------------------\n",
    "Show_Price_Volum(candles, pSigma, vSigma, nLatest)"
   ]
  },
  {
   "cell_type": "code",
   "execution_count": null,
   "metadata": {},
   "outputs": [],
   "source": [
    "# Get the latest pirces, so quickly as to draw and monitor all 330 -/USDT markets on Binance in real time.\n",
    "# Note: It will not work during its a few minutes of warming-up period.\n",
    "\n",
    "nLatest = 2 #3000000    # number of latest cached candles. It's completely normal if one less candles are returned.\n",
    "#--------------------------------------------------------------\n",
    "\n",
    "end = datetime.now() # datetime(2023, 2, 20)\n",
    "start = end - timedelta(minutes=nLatest-1, hours=0)\n",
    "symbol = \"ETHUSDT\"; interval = \"1m\"\n",
    "cachedCandles = bn.Get_Cached_Price(\"klines\", symbol, interval, start)\n",
    "if cachedCandles is not None:\n",
    "    series = [ (cachedCandles[:,4], \"price\", \"b\") ]\n",
    "    ShowSingle(\"Latest {} prices.\".format(cachedCandles.shape[0]), [(cachedCandles[:,4], \"price\", \"b\")])"
   ]
  },
  {
   "cell_type": "code",
   "execution_count": null,
   "metadata": {},
   "outputs": [],
   "source": [
    "# Logarithm for placeholder candles ..."
   ]
  },
  {
   "cell_type": "code",
   "execution_count": null,
   "metadata": {},
   "outputs": [],
   "source": [
    "# Visualization 01"
   ]
  },
  {
   "cell_type": "code",
   "execution_count": null,
   "metadata": {},
   "outputs": [],
   "source": [
    "ready = bn.gstreams_ready\n",
    "print(ready)"
   ]
  },
  {
   "cell_type": "code",
   "execution_count": null,
   "metadata": {
    "scrolled": true
   },
   "outputs": [],
   "source": [
    "# Get_Price_Data_By_Time_Batch function executes a batch of Get_Price_Data_By_Time calls.\n",
    "\n",
    "start = datetime.now() - timedelta(minutes=4500)    # 4500 minutes: outside of cache\n",
    "end = start + timedelta(minutes=59)\n",
    "start = datetime(2020, 8, 1)\n",
    "end = datetime(2023, 3, 26)\n",
    "symbols = [\n",
    "    \"BNB\", \"USDC\", \"BTC\", \"ETH\"\n",
    "]\n",
    "for i in range(len(symbols)): symbols[i] = symbols[i]  + \"USDT\"\n",
    "interval = \"1m\"\n",
    "print(symbols)\n",
    "#-------------------------------------------------------------------------------------------------------\n",
    "table, nFills, reports, succesful = bn.Get_Price_Data_By_Time_Batch(\"klines\", symbols, interval, start, end, lookup=True)\n",
    "if succesful:   # table is a numpy array.\n",
    "    print(\"\\n!!!!!!!!!! (nMarkets, nCandles, nAttributes) = {}, nCreated = {}\".format(table.shape, nFills))\n",
    "print(\"\\n!!!!!!!!!! successful: {}\".format(successful_symbols))\n",
    "\n",
    "\n",
    "file_id = \"01\"\n",
    "\n",
    "print(\"table: {}\".format(table.shape))\n",
    "np.save(os.path.join( Config['BinanceCandlesNumpy'], \"table_\" + file_id), table)\n",
    "import json\n",
    "with open(os.path.join( Config['BinanceCandlesNumpy'], \"reports_\" + file_id + \".json\"), \"w\") as f:\n",
    "    f.write(json.dumps(reports))"
   ]
  },
  {
   "cell_type": "code",
   "execution_count": null,
   "metadata": {},
   "outputs": [],
   "source": [
    "table = np.load( os.path.join( Config['BinanceCandlesNumpy'], \"table_\" + file_id + \".npy\") )\n",
    "print(\"table: {}\".format(table.shape))\n",
    "table_markets = []\n",
    "with open( os.path.join( Config['BinanceCandlesNumpy'], \"reports_\" + file_id + \".json\"), \"r\") as f:\n",
    "    reports = json.loads(f.read())\n",
    "print(reports)"
   ]
  }
 ],
 "metadata": {
  "kernelspec": {
   "display_name": "Python 3 (ipykernel)",
   "language": "python",
   "name": "python3"
  },
  "language_info": {
   "codemirror_mode": {
    "name": "ipython",
    "version": 3
   },
   "file_extension": ".py",
   "mimetype": "text/x-python",
   "name": "python",
   "nbconvert_exporter": "python",
   "pygments_lexer": "ipython3",
   "version": "3.7.12"
  }
 },
 "nbformat": 4,
 "nbformat_minor": 2
}
