{
 "cells": [
  {
   "cell_type": "code",
   "execution_count": 1,
   "metadata": {},
   "outputs": [],
   "source": [
    "# Import 3rd-party frameworks.\n",
    "\n",
    "from scipy import signal\n",
    "import matplotlib.pyplot as plt\n",
    "import numpy as np\n",
    "import time as tm\n",
    "from datetime import datetime, timedelta\n",
    "from matplotlib import pyplot as plt"
   ]
  },
  {
   "cell_type": "code",
   "execution_count": 2,
   "metadata": {},
   "outputs": [],
   "source": [
    "from Mike_NB_01 import *"
   ]
  },
  {
   "cell_type": "code",
   "execution_count": 3,
   "metadata": {},
   "outputs": [
    {
     "name": "stdout",
     "output_type": "stream",
     "text": [
      "====== Bot: engine is created.\n",
      "====== Bot: engine is starting...\n",
      "Initializing Binance singleton...\n",
      "====== Bot: Traders, and their strategies/indicators, are created.\n",
      "====== Bot: Traders, and their strategies/indicators, are running...\n"
     ]
    }
   ],
   "source": [
    "# Import the Bot engine.\n",
    "import sys \n",
    "sys.path.append('..')\n",
    "from ___Engine import *\n",
    "Engine.ChooseMode(stream=False, show_stream=False, demisser=False, show_demosser=False, traders=True, show_tranders=False, present=True )\n",
    "\n",
    "engine = Engine()\n",
    "engine.Start(Config['structure'], Config['timing'])\n",
    "\n",
    "bn = None\n",
    "if len(engine.exchanges) > 0:\n",
    "    bn = engine.exchanges[0]  # Binance exchange"
   ]
  },
  {
   "cell_type": "code",
   "execution_count": 4,
   "metadata": {},
   "outputs": [
    {
     "name": "stdout",
     "output_type": "stream",
     "text": [
      "\n",
      "Get_Price: klines.BTCUSDT.1m.2018-01-01 00:00:00.2023-03-28 23:59:00\n",
      "klines.BTCUSDT.1m is not available from Binance.\n",
      "Not available from Binance\n"
     ]
    }
   ],
   "source": [
    "# Get_Price_Data_By_Time function seamlessly collects/creates price candles from Binance.\n",
    "\n",
    "start = datetime(2018, 1, 1)    # Any datetime. Note Binance started operation in July 2017.\n",
    "end = datetime(2023, 3, 28, 23, 59)     # Any datetime\n",
    "symbol = \"BTCUSDT\"      # Any pair listed on Binance.\n",
    "interval = \"1m\"         # in '1m', '3m', '5m', '15m', '30m', '1h', '2h', '4h', '6h', '8h', '12h', '1d'.  (excludes: '3d', '1w')\n",
    "prePad = True           # prepend with null candles.\n",
    "#------------------------------------------------------------------------------------------------------------------\n",
    "candles, nFills, successful, _, reason = bn.Get_Price_Data_By_Time(\"klines\", symbol, interval, start, end, prePad=prePad)\n",
    "print(reason)\n",
    "if successful:          # price is a numpy array.\n",
    "    print(\"\\n!!!!!!!!!! (nCandles, nAttributes) = {}, nCreated = {}\".format(candles.shape, nFills))"
   ]
  },
  {
   "cell_type": "code",
   "execution_count": null,
   "metadata": {},
   "outputs": [],
   "source": [
    "# Get_Price_Data_By_Time_Batch function executes a batch of Get_Price_Data_By_Time calls.\n",
    "\n",
    "start = datetime(2023, 1, 1)\n",
    "end = datetime(2023, 3, 29, 23, 59)\n",
    "symbols = [\"BTCUSDT\", \"ETHUSDT\"]    # Be careful with market symbols.\n",
    "interval = \"1m\"\n",
    "#-------------------------------------------------------------------------------------------------------\n",
    "table, nFills, successful_symbols, succesful, = bn.Get_Price_Data_By_Time_Batch(\"klines\", symbols, interval, start, end)\n",
    "if succesful:   # table is a numpy array.\n",
    "    print(\"\\n!!!!!!!!!! (nMarkets, nCandles, nAttributes) = {}, nCreated = {}\".format(table.shape, nFills))\n",
    "    print(\"\\n!!!!!!!!!! successful: {}\".format(successful_symbols))"
   ]
  },
  {
   "cell_type": "code",
   "execution_count": null,
   "metadata": {},
   "outputs": [],
   "source": [
    "table.dtype"
   ]
  },
  {
   "cell_type": "code",
   "execution_count": null,
   "metadata": {},
   "outputs": [],
   "source": [
    "# Assess if event-free series has significance, and at what sigma values.\n",
    "\n",
    "smallSigma = 3\n",
    "largeSigma = 60\n",
    "nLatest = 1440 * 10   # the number of candles to show.\n",
    "#-----------------------------------------------------------------\n",
    "Event_Free_Learning_Scheme(candles, smallSigma, largeSigma, nLatest)"
   ]
  },
  {
   "cell_type": "code",
   "execution_count": null,
   "metadata": {},
   "outputs": [],
   "source": [
    "# Guess the best sigma for price and volume\n",
    "\n",
    "pSigma = 1\n",
    "vSigma = 1\n",
    "nLatest = 100  # minutes in a day.\n",
    "#-------------------------------------------------------------------\n",
    "Show_Price_Volum(candles, pSigma, vSigma, nLatest)"
   ]
  },
  {
   "cell_type": "code",
   "execution_count": null,
   "metadata": {},
   "outputs": [],
   "source": [
    "# Get the latest pirces, so quickly as to draw and monitor all 330 -/USDT markets on Binance in real time.\n",
    "# Note: It will not work during its a few minutes of warming-up period.\n",
    "\n",
    "nLatest = 2 #3000000    # number of latest cached candles. It's completely normal if one less candles are returned.\n",
    "#--------------------------------------------------------------\n",
    "\n",
    "end = datetime.now() # datetime(2023, 2, 20)\n",
    "start = end - timedelta(minutes=nLatest-1, hours=0)\n",
    "symbol = \"ETHUSDT\"; interval = \"1m\"\n",
    "cachedCandles = bn.Get_Cached_Price(\"klines\", symbol, interval, start)\n",
    "if cachedCandles is not None:\n",
    "    series = [ (cachedCandles[:,4], \"price\", \"b\") ]\n",
    "    ShowSingle(\"Latest {} prices.\".format(cachedCandles.shape[0]), [(cachedCandles[:,4], \"price\", \"b\")])"
   ]
  },
  {
   "cell_type": "code",
   "execution_count": null,
   "metadata": {},
   "outputs": [],
   "source": [
    "# Logarithm for placeholder candles ..."
   ]
  },
  {
   "cell_type": "code",
   "execution_count": null,
   "metadata": {},
   "outputs": [],
   "source": [
    "# Visualization 01"
   ]
  },
  {
   "cell_type": "code",
   "execution_count": null,
   "metadata": {},
   "outputs": [],
   "source": [
    "ready = bn.gstreams_ready\n",
    "keys = []\n",
    "while len(keys) < 320:\n",
    "    tm.sleep(3)\n",
    "    keys = bn.gstreams.keys()\n",
    "print(ready, len(keys))"
   ]
  },
  {
   "cell_type": "code",
   "execution_count": null,
   "metadata": {
    "scrolled": true
   },
   "outputs": [],
   "source": [
    "# Get_Price_Data_By_Time_Batch function executes a batch of Get_Price_Data_By_Time calls.\n",
    "\n",
    "start = datetime(2018, 1, 1)\n",
    "end = datetime(2023, 3, 29, 23, 59, 59)\n",
    "\n",
    "keys = bn.gstreams.keys()\n",
    "symbols = []\n",
    "for key in keys:\n",
    "    (dataType, symbol, interval) = key.split('.')\n",
    "    symbols.append(symbol)\n",
    "print(symbols, len(symbols))\n",
    "\n",
    "interval = \"1m\"\n",
    "#-------------------------------------------------------------------------------------------------------\n",
    "table, nFills, reports, succesful = bn.Get_Price_Data_By_Time_Batch(\"klines\", symbols, interval, start, end, lookup=True)\n",
    "if succesful:   # table is a numpy array.\n",
    "    print(\"\\n!!!!!!!!!! (nMarkets, nCandles, nAttributes) = {}, nCreated = {}\".format(table.shape, nFills))\n",
    "print(\"\\n!!!!!!!!!! successful: {}\".format(successful_symbols))\n"
   ]
  },
  {
   "cell_type": "code",
   "execution_count": null,
   "metadata": {
    "scrolled": false
   },
   "outputs": [],
   "source": [
    "now = datetime.now()\n",
    "timestring = \"-\".join([str(now.year%100), str(now.month).zfill(2), str(now.day).zfill(2), str(now.hour).zfill(2), str(now.minute).zfill(2)])\n",
    "file_id = \"{}-{}\".format(timestring, Config['ginterval'])\n",
    "\n",
    "print(\"table: {}\".format(table.shape))\n",
    "np.save(os.path.join( Config['BinanceCandlesNumpy'], \"table-\" + file_id), table)\n",
    "import json\n",
    "with open(os.path.join( Config['BinanceCandlesNumpy'], \"reports-\" + file_id + \".json\"), \"w\") as f:\n",
    "    f.write(json.dumps(reports))"
   ]
  },
  {
   "cell_type": "code",
   "execution_count": null,
   "metadata": {},
   "outputs": [],
   "source": [
    "table = np.load( os.path.join( Config['BinanceCandlesNumpy'], \"table-\" + file_id + \".npy\") )\n",
    "print(\"table: {}\".format(table.shape))\n",
    "table_markets = []\n",
    "with open( os.path.join( Config['BinanceCandlesNumpy'], \"reports-\" + file_id + \".json\"), \"r\") as f:\n",
    "    reports = json.loads(f.read())\n",
    "print(reports)"
   ]
  }
 ],
 "metadata": {
  "kernelspec": {
   "display_name": "Python 3 (ipykernel)",
   "language": "python",
   "name": "python3"
  },
  "language_info": {
   "codemirror_mode": {
    "name": "ipython",
    "version": 3
   },
   "file_extension": ".py",
   "mimetype": "text/x-python",
   "name": "python",
   "nbconvert_exporter": "python",
   "pygments_lexer": "ipython3",
   "version": "3.7.12"
  }
 },
 "nbformat": 4,
 "nbformat_minor": 2
}
